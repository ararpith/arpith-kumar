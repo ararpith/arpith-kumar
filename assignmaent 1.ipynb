{
 "cells": [
  {
   "cell_type": "markdown",
   "id": "91011626",
   "metadata": {},
   "source": [
    "* = mathematical operator\n",
    "'hello' = string\n",
    "-87.8 = integer (float)\n",
    "- = mathematical operator\n",
    "/ = mathematical operator\n",
    "+ = mathematical operator\n",
    "6 = integer (float)"
   ]
  },
  {
   "cell_type": "markdown",
   "id": "1b83a0fc",
   "metadata": {},
   "source": [
    "Variables store information in a program. eg a=10 where a is a variable\n",
    "A string is a type of value that can be stored in a variable. A string is made up of characters, and can include letters, words, phrases, or symbols.\n"
   ]
  },
  {
   "cell_type": "markdown",
   "id": "a68373fd",
   "metadata": {},
   "source": [
    "Integer (int)\n",
    "Floating Point (float)\n",
    "Character (char)\n",
    "String (str or text)\n",
    "Boolean (bool)\n",
    "Date.\n",
    "date & time"
   ]
  },
  {
   "cell_type": "markdown",
   "id": "0de46a3d",
   "metadata": {},
   "source": [
    "An expression is any legal combination of symbols that represents a value. For example, 2.9, a + 5, (3 + 5) / 4\n",
    "\n"
   ]
  },
  {
   "cell_type": "markdown",
   "id": "12aa55e2",
   "metadata": {},
   "source": [
    "“expression” is a combination of values and functions that are combined and interpreted by the compiler to create a new value, “statement” which is just a standalone unit of execution and doesn't return anything"
   ]
  },
  {
   "cell_type": "code",
   "execution_count": 3,
   "id": "1e16e785",
   "metadata": {},
   "outputs": [
    {
     "name": "stdout",
     "output_type": "stream",
     "text": [
      "22\n"
     ]
    }
   ],
   "source": [
    "bacon=22\n",
    "bacon+1\n",
    "print(bacon)"
   ]
  },
  {
   "cell_type": "code",
   "execution_count": 4,
   "id": "7cf2602c",
   "metadata": {},
   "outputs": [
    {
     "data": {
      "text/plain": [
       "12"
      ]
     },
     "execution_count": 4,
     "metadata": {},
     "output_type": "execute_result"
    }
   ],
   "source": [
    "len(\"spam\"+\"spamspam\")"
   ]
  },
  {
   "cell_type": "code",
   "execution_count": 5,
   "id": "39464a90",
   "metadata": {},
   "outputs": [
    {
     "data": {
      "text/plain": [
       "12"
      ]
     },
     "execution_count": 5,
     "metadata": {},
     "output_type": "execute_result"
    }
   ],
   "source": [
    "len(\"spam\"*3)"
   ]
  },
  {
   "cell_type": "markdown",
   "id": "b90f0f85",
   "metadata": {},
   "source": [
    "since variable stores a data and 100 is integer/literal  we cannot assign a value/ name or character \n",
    "and a variable can be any lenght and character eggs is a  valid varialbe name"
   ]
  },
  {
   "cell_type": "markdown",
   "id": "921b6f09",
   "metadata": {},
   "source": [
    "int(),float(),str()"
   ]
  },
  {
   "cell_type": "markdown",
   "id": "bc9fd2eb",
   "metadata": {},
   "source": [
    "Expression cannot contaion both string and integer by converting 99 into string we can fix an error"
   ]
  },
  {
   "cell_type": "code",
   "execution_count": 8,
   "id": "f40937af",
   "metadata": {},
   "outputs": [
    {
     "data": {
      "text/plain": [
       "'i have eaten99burritos'"
      ]
     },
     "execution_count": 8,
     "metadata": {},
     "output_type": "execute_result"
    }
   ],
   "source": [
    "\"i have eaten\"+\"99\"+ \"burritos\""
   ]
  },
  {
   "cell_type": "code",
   "execution_count": null,
   "id": "eb8a3fbf",
   "metadata": {},
   "outputs": [],
   "source": []
  }
 ],
 "metadata": {
  "kernelspec": {
   "display_name": "Python 3",
   "language": "python",
   "name": "python3"
  },
  "language_info": {
   "codemirror_mode": {
    "name": "ipython",
    "version": 3
   },
   "file_extension": ".py",
   "mimetype": "text/x-python",
   "name": "python",
   "nbconvert_exporter": "python",
   "pygments_lexer": "ipython3",
   "version": "3.8.8"
  }
 },
 "nbformat": 4,
 "nbformat_minor": 5
}
